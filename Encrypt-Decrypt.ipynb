{
  "nbformat": 4,
  "nbformat_minor": 0,
  "metadata": {
    "kernelspec": {
      "display_name": "Python 3",
      "language": "python",
      "name": "python3"
    },
    "language_info": {
      "codemirror_mode": {
        "name": "ipython",
        "version": 3
      },
      "file_extension": ".py",
      "mimetype": "text/x-python",
      "name": "python",
      "nbconvert_exporter": "python",
      "pygments_lexer": "ipython3",
      "version": "3.8.6"
    },
    "colab": {
      "name": "Untitled.ipynb",
      "provenance": [],
      "include_colab_link": true
    }
  },
  "cells": [
    {
      "cell_type": "markdown",
      "metadata": {
        "id": "view-in-github",
        "colab_type": "text"
      },
      "source": [
        "<a href=\"https://colab.research.google.com/github/Thiru609/Image-Encryption-and-Decryption-RSA/blob/main/Encrypt-Decrypt.ipynb\" target=\"_parent\"><img src=\"https://colab.research.google.com/assets/colab-badge.svg\" alt=\"Open In Colab\"/></a>"
      ]
    },
    {
      "cell_type": "code",
      "metadata": {
        "id": "voQUXPoItrEd"
      },
      "source": [
        "import imageio\n",
        "import numpy as np\n",
        "\n",
        "from PIL import Image\n"
      ],
      "execution_count": null,
      "outputs": []
    },
    {
      "cell_type": "code",
      "metadata": {
        "id": "hON3JaJ0trEl"
      },
      "source": [
        "img = imageio.imread('/Users/thiru/Downloads/s7.png')"
      ],
      "execution_count": null,
      "outputs": []
    },
    {
      "cell_type": "code",
      "metadata": {
        "id": "CAMxmevGtrEm"
      },
      "source": [
        "l = img.shape[0]\n",
        "w = img.shape[1]\n",
        "n = max(l,w)\n",
        "if n%2:\n",
        "    n = n + 1\n",
        "img2 = np.zeros((n,n,3))\n",
        "img2[:l,:w,:] += img                                           \n",
        "Mod = 256\n",
        "k = 23                                                        \n"
      ],
      "execution_count": null,
      "outputs": []
    },
    {
      "cell_type": "code",
      "metadata": {
        "id": "YySbcTWRtrEr"
      },
      "source": [
        "d = np.random.randint(256, size = (int(n/2),int(n/2)))\n",
        "I = np.identity(int(n/2))\n",
        "a = np.mod(-d,Mod)\n"
      ],
      "execution_count": null,
      "outputs": []
    },
    {
      "cell_type": "code",
      "metadata": {
        "id": "YzrbJwQKtrEs"
      },
      "source": [
        "b = np.mod((k * np.mod(I - a,Mod)),Mod)\n",
        "k = np.mod(np.power(k,127),Mod)\n",
        "c = np.mod((I + a),Mod)\n",
        "c = np.mod(c * k, Mod)\n"
      ],
      "execution_count": null,
      "outputs": []
    },
    {
      "cell_type": "code",
      "metadata": {
        "id": "G9wTYWxmtrEu"
      },
      "source": [
        "A1 = np.concatenate((a,b), axis = 1)\n",
        "A2 = np.concatenate((c,d), axis = 1)\n",
        "A = np.concatenate((A1,A2), axis = 0)\n",
        "Test = np.mod(np.matmul(np.mod(A,Mod),np.mod(A,Mod)),Mod)  \n"
      ],
      "execution_count": null,
      "outputs": []
    },
    {
      "cell_type": "code",
      "metadata": {
        "id": "1yqpTyIAtrEw"
      },
      "source": [
        "key = np.zeros((n + 1, n))\n",
        "key[:n, :n] += A\n"
      ],
      "execution_count": null,
      "outputs": []
    },
    {
      "cell_type": "code",
      "metadata": {
        "id": "Ps1CQFK3trEx",
        "outputId": "ef176fdc-c2b6-4907-fb73-8fff6f30a6a9"
      },
      "source": [
        "key[-1][0] = int(l / Mod)\n",
        "key[-1][1] = l % Mod\n",
        "key[-1][2] = int(w / Mod)\n",
        "key[-1][3] = w % Mod\n",
        "imageio.imwrite(\"Key.png\", key)\n",
        "Enc1 = (np.matmul(A % Mod,img2[:,:,0] % Mod)) % Mod\n",
        "Enc2 = (np.matmul(A % Mod,img2[:,:,1] % Mod)) % Mod\n",
        "Enc3 = (np.matmul(A % Mod,img2[:,:,2] % Mod)) % Mod\n",
        "Enc1 = np.resize(Enc1,(Enc1.shape[0],Enc1.shape[1],1))\n",
        "Enc2 = np.resize(Enc2,(Enc2.shape[0],Enc2.shape[1],1))\n",
        "Enc3 = np.resize(Enc3,(Enc3.shape[0],Enc3.shape[1],1))\n",
        "Enc = np.concatenate((Enc1,Enc2,Enc3), axis = 2)\n"
      ],
      "execution_count": null,
      "outputs": [
        {
          "output_type": "stream",
          "text": [
            "Lossy conversion from float64 to uint8. Range [0.0, 255.0]. Convert image to uint8 prior to saving to suppress this warning.\n"
          ],
          "name": "stderr"
        }
      ]
    },
    {
      "cell_type": "code",
      "metadata": {
        "id": "ut708jbCtrE4",
        "outputId": "8217bca2-0440-4d29-c493-1899f12274bb"
      },
      "source": [
        "imageio.imwrite('Encrypted.png',Enc)"
      ],
      "execution_count": null,
      "outputs": [
        {
          "output_type": "stream",
          "text": [
            "Lossy conversion from float64 to uint8. Range [0.0, 255.0]. Convert image to uint8 prior to saving to suppress this warning.\n"
          ],
          "name": "stderr"
        }
      ]
    },
    {
      "cell_type": "code",
      "metadata": {
        "id": "od8oL0iktrE6",
        "outputId": "c7682e15-9a95-4acf-edde-1403a6f7f32b"
      },
      "source": [
        "from PIL import Image\n",
        "jpgfile = Image.open(\"Encrypted.png\")\n",
        "#jpgfile.show()\n",
        "print (jpgfile.size, jpgfile.format)\n",
        "row,col = jpgfile.size\n",
        "pixels = jpgfile.load()\n",
        "import random\n",
        "row1 = 1000003\n",
        "phi = [0 for x1 in range(row1)]\n",
        "occ = [0 for x1 in range(row1)]\n",
        "primes = [] \n",
        "phi[1] = 1\n",
        "#phi[2] = 1\n",
        "#print (phi)\n",
        "for i in range(2,1000001):\n",
        "\t#print (i)\n",
        "\tif(phi[i] == 0):\n",
        "\t\tphi[i] = i-1\n",
        "\t\t#print (i)\n",
        "\t\tprimes.append(i)\n",
        "\t\t#j = 2*i\n",
        "\t\tfor j in range (2*i,1000001,i):\n",
        "\t\t\t#print(\"j i\",j)\n",
        "\t\t\t#print(j)\n",
        "\t\t\tif(occ[j] == 0):\n",
        "\t\t\t\t#print i(\"inside iif2\")\n",
        "\t\t\t\tocc[j] = 1\n",
        "\t\t\t\tphi[j] = j\n",
        "\t\t\t\t#print (phi[j])\n",
        "\t\t\t\t#print ((i-1)//i)\n",
        "\t\t\tphi[j] = (phi[j]*(i-1))//i\n",
        "\t\t\t#print(phi[j])\n",
        "\t\t\t#j = j + i\n",
        "p = primes[random.randrange(1,167)]\n",
        "q = primes[random.randrange(1,167)]\n",
        "print (p,\" \", q)\n",
        "n = p*q\n",
        "mod = n\n",
        "phin1 = phi[n]\n",
        "phin2 = phi[phin1]\n",
        "e = primes[random.randrange(1,9000)]\n",
        "mod1 = phin1\n",
        "def power1(x,y,m):\n",
        "\tans=1\n",
        "\twhile(y>0):\n",
        "\t\tif(y%2==1):\n",
        "\t\t\tans=(ans*x)%m\n",
        "\t\ty=y//2\n",
        "\t\tx=(x*x)%m\n",
        "\treturn ans\n",
        "d = power1(e,phin2-1,mod1)\n",
        "enc = [[0 for x in range(row)] for y in range(col)]\n",
        "dec = [[0 for x in range(row)] for y in range(col)]\n",
        "for i in range(col):\n",
        "\tfor j in range(row):\n",
        "\t\tr,g,b = pixels[j,i]\n",
        "\t\tr1 = power1(r+10,e,mod)\n",
        "\t\tg1 = power1(g+10,e,mod)\n",
        "\t\tb1 = power1(b+10,e,mod)\n",
        "\t\tenc[i][j] = [r1,g1,b1]\n",
        "print (pixels[row-1,col-1])\n",
        "img = np.array(enc,dtype = np.uint8)\n",
        "img1 = Image.fromarray(img,\"RGB\")\n",
        "#pixels2 = img1.load()\n",
        "img1.show()\n",
        "img1.save('Encrypted2.png')\n",
        "for i in range(col):\n",
        "\tfor j in range(row):\n",
        "\t\tr,g,b = enc[i][j]\n",
        "\t\tr1 = power1(r,d,mod)-10\n",
        "\t\tg1 = power1(g,d,mod)-10\n",
        "\t\tb1 = power1(b,d,mod)-10\n",
        "\t\tdec[i][j] = [r1,g1,b1]\n",
        "img2 = np.array(dec,dtype = np.uint8)\n",
        "img3 = Image.fromarray(img2,\"RGB\")\n",
        "img3.show()\n",
        "img3.save('Decrypted1.png')\n",
        "j = Image.open(\"Decrypted1.png\")\n",
        "img = j.save(\"Decrypted1.png\")\n",
        "\n"
      ],
      "execution_count": null,
      "outputs": [
        {
          "output_type": "stream",
          "text": [
            "(606, 606) PNG\n",
            "919   59\n",
            "(0, 0, 0)\n"
          ],
          "name": "stdout"
        }
      ]
    }
  ]
}